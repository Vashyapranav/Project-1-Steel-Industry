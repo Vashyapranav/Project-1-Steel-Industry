{
 "cells": [
  {
   "cell_type": "code",
   "execution_count": 576,
   "id": "b720865f-413c-44e4-9bf6-064ffe8b926a",
   "metadata": {},
   "outputs": [],
   "source": [
    "import numpy as np\n",
    "import pandas as pd\n",
    "df  = pd.read_csv(\"C://Users//NIRBHAY IMI-K//Desktop//ML assignment 2//Steel_industry_data.csv\")"
   ]
  },
  {
   "cell_type": "code",
   "execution_count": 577,
   "id": "80a06e76-70cd-470f-93c8-79e3715296c4",
   "metadata": {},
   "outputs": [
    {
     "data": {
      "text/html": [
       "<div>\n",
       "<style scoped>\n",
       "    .dataframe tbody tr th:only-of-type {\n",
       "        vertical-align: middle;\n",
       "    }\n",
       "\n",
       "    .dataframe tbody tr th {\n",
       "        vertical-align: top;\n",
       "    }\n",
       "\n",
       "    .dataframe thead th {\n",
       "        text-align: right;\n",
       "    }\n",
       "</style>\n",
       "<table border=\"1\" class=\"dataframe\">\n",
       "  <thead>\n",
       "    <tr style=\"text-align: right;\">\n",
       "      <th></th>\n",
       "      <th>date</th>\n",
       "      <th>Usage_kWh</th>\n",
       "      <th>Lagging_Current_Reactive.Power_kVarh</th>\n",
       "      <th>Leading_Current_Reactive_Power_kVarh</th>\n",
       "      <th>CO2(tCO2)</th>\n",
       "      <th>Lagging_Current_Power_Factor</th>\n",
       "      <th>Leading_Current_Power_Factor</th>\n",
       "      <th>NSM</th>\n",
       "      <th>WeekStatus</th>\n",
       "      <th>Day_of_week</th>\n",
       "      <th>Load_Type</th>\n",
       "    </tr>\n",
       "  </thead>\n",
       "  <tbody>\n",
       "    <tr>\n",
       "      <th>0</th>\n",
       "      <td>01/01/2018 00:15</td>\n",
       "      <td>3.17</td>\n",
       "      <td>2.95</td>\n",
       "      <td>0.0</td>\n",
       "      <td>0.0</td>\n",
       "      <td>73.21</td>\n",
       "      <td>100.0</td>\n",
       "      <td>900</td>\n",
       "      <td>Weekday</td>\n",
       "      <td>Monday</td>\n",
       "      <td>Light_Load</td>\n",
       "    </tr>\n",
       "    <tr>\n",
       "      <th>1</th>\n",
       "      <td>01/01/2018 00:30</td>\n",
       "      <td>4.00</td>\n",
       "      <td>4.46</td>\n",
       "      <td>0.0</td>\n",
       "      <td>0.0</td>\n",
       "      <td>66.77</td>\n",
       "      <td>100.0</td>\n",
       "      <td>1800</td>\n",
       "      <td>Weekday</td>\n",
       "      <td>Monday</td>\n",
       "      <td>Light_Load</td>\n",
       "    </tr>\n",
       "    <tr>\n",
       "      <th>2</th>\n",
       "      <td>01/01/2018 00:45</td>\n",
       "      <td>3.24</td>\n",
       "      <td>3.28</td>\n",
       "      <td>0.0</td>\n",
       "      <td>0.0</td>\n",
       "      <td>70.28</td>\n",
       "      <td>100.0</td>\n",
       "      <td>2700</td>\n",
       "      <td>Weekday</td>\n",
       "      <td>Monday</td>\n",
       "      <td>Light_Load</td>\n",
       "    </tr>\n",
       "    <tr>\n",
       "      <th>3</th>\n",
       "      <td>01/01/2018 01:00</td>\n",
       "      <td>3.31</td>\n",
       "      <td>3.56</td>\n",
       "      <td>0.0</td>\n",
       "      <td>0.0</td>\n",
       "      <td>68.09</td>\n",
       "      <td>100.0</td>\n",
       "      <td>3600</td>\n",
       "      <td>Weekday</td>\n",
       "      <td>Monday</td>\n",
       "      <td>Light_Load</td>\n",
       "    </tr>\n",
       "    <tr>\n",
       "      <th>4</th>\n",
       "      <td>01/01/2018 01:15</td>\n",
       "      <td>3.82</td>\n",
       "      <td>4.50</td>\n",
       "      <td>0.0</td>\n",
       "      <td>0.0</td>\n",
       "      <td>64.72</td>\n",
       "      <td>100.0</td>\n",
       "      <td>4500</td>\n",
       "      <td>Weekday</td>\n",
       "      <td>Monday</td>\n",
       "      <td>Light_Load</td>\n",
       "    </tr>\n",
       "  </tbody>\n",
       "</table>\n",
       "</div>"
      ],
      "text/plain": [
       "               date  Usage_kWh  Lagging_Current_Reactive.Power_kVarh  \\\n",
       "0  01/01/2018 00:15       3.17                                  2.95   \n",
       "1  01/01/2018 00:30       4.00                                  4.46   \n",
       "2  01/01/2018 00:45       3.24                                  3.28   \n",
       "3  01/01/2018 01:00       3.31                                  3.56   \n",
       "4  01/01/2018 01:15       3.82                                  4.50   \n",
       "\n",
       "   Leading_Current_Reactive_Power_kVarh  CO2(tCO2)  \\\n",
       "0                                   0.0        0.0   \n",
       "1                                   0.0        0.0   \n",
       "2                                   0.0        0.0   \n",
       "3                                   0.0        0.0   \n",
       "4                                   0.0        0.0   \n",
       "\n",
       "   Lagging_Current_Power_Factor  Leading_Current_Power_Factor   NSM  \\\n",
       "0                         73.21                         100.0   900   \n",
       "1                         66.77                         100.0  1800   \n",
       "2                         70.28                         100.0  2700   \n",
       "3                         68.09                         100.0  3600   \n",
       "4                         64.72                         100.0  4500   \n",
       "\n",
       "  WeekStatus Day_of_week   Load_Type  \n",
       "0    Weekday      Monday  Light_Load  \n",
       "1    Weekday      Monday  Light_Load  \n",
       "2    Weekday      Monday  Light_Load  \n",
       "3    Weekday      Monday  Light_Load  \n",
       "4    Weekday      Monday  Light_Load  "
      ]
     },
     "execution_count": 577,
     "metadata": {},
     "output_type": "execute_result"
    }
   ],
   "source": [
    "df.head()"
   ]
  },
  {
   "cell_type": "code",
   "execution_count": 578,
   "id": "854ba369-03e3-4481-8da4-140fc49637f6",
   "metadata": {},
   "outputs": [
    {
     "data": {
      "text/plain": [
       "(35040, 11)"
      ]
     },
     "execution_count": 578,
     "metadata": {},
     "output_type": "execute_result"
    }
   ],
   "source": [
    "df.shape"
   ]
  },
  {
   "cell_type": "code",
   "execution_count": 579,
   "id": "b9092361-618f-4aa2-9e5f-43fd65d7ca77",
   "metadata": {},
   "outputs": [
    {
     "name": "stdout",
     "output_type": "stream",
     "text": [
      "<class 'pandas.core.frame.DataFrame'>\n",
      "RangeIndex: 35040 entries, 0 to 35039\n",
      "Data columns (total 11 columns):\n",
      " #   Column                                Non-Null Count  Dtype  \n",
      "---  ------                                --------------  -----  \n",
      " 0   date                                  35040 non-null  object \n",
      " 1   Usage_kWh                             35040 non-null  float64\n",
      " 2   Lagging_Current_Reactive.Power_kVarh  35040 non-null  float64\n",
      " 3   Leading_Current_Reactive_Power_kVarh  35040 non-null  float64\n",
      " 4   CO2(tCO2)                             35040 non-null  float64\n",
      " 5   Lagging_Current_Power_Factor          35040 non-null  float64\n",
      " 6   Leading_Current_Power_Factor          35040 non-null  float64\n",
      " 7   NSM                                   35040 non-null  int64  \n",
      " 8   WeekStatus                            35040 non-null  object \n",
      " 9   Day_of_week                           35040 non-null  object \n",
      " 10  Load_Type                             35040 non-null  object \n",
      "dtypes: float64(6), int64(1), object(4)\n",
      "memory usage: 2.9+ MB\n"
     ]
    }
   ],
   "source": [
    "df.info()"
   ]
  },
  {
   "cell_type": "code",
   "execution_count": 580,
   "id": "dc7ab051-74a6-4297-af93-7bfc74b43060",
   "metadata": {},
   "outputs": [
    {
     "data": {
      "text/plain": [
       "date                                    0\n",
       "Usage_kWh                               0\n",
       "Lagging_Current_Reactive.Power_kVarh    0\n",
       "Leading_Current_Reactive_Power_kVarh    0\n",
       "CO2(tCO2)                               0\n",
       "Lagging_Current_Power_Factor            0\n",
       "Leading_Current_Power_Factor            0\n",
       "NSM                                     0\n",
       "WeekStatus                              0\n",
       "Day_of_week                             0\n",
       "Load_Type                               0\n",
       "dtype: int64"
      ]
     },
     "execution_count": 580,
     "metadata": {},
     "output_type": "execute_result"
    }
   ],
   "source": [
    "df.isna().sum()"
   ]
  },
  {
   "cell_type": "code",
   "execution_count": 581,
   "id": "0da0eb59-0f52-441e-84ac-da65925e06e3",
   "metadata": {},
   "outputs": [],
   "source": [
    "df.drop([\"date\"], axis=1,inplace=True)"
   ]
  },
  {
   "cell_type": "code",
   "execution_count": 582,
   "id": "c25f59e8-f95e-4f35-8466-8f3fdf1e4960",
   "metadata": {},
   "outputs": [
    {
     "data": {
      "text/html": [
       "<div>\n",
       "<style scoped>\n",
       "    .dataframe tbody tr th:only-of-type {\n",
       "        vertical-align: middle;\n",
       "    }\n",
       "\n",
       "    .dataframe tbody tr th {\n",
       "        vertical-align: top;\n",
       "    }\n",
       "\n",
       "    .dataframe thead th {\n",
       "        text-align: right;\n",
       "    }\n",
       "</style>\n",
       "<table border=\"1\" class=\"dataframe\">\n",
       "  <thead>\n",
       "    <tr style=\"text-align: right;\">\n",
       "      <th></th>\n",
       "      <th>Usage_kWh</th>\n",
       "      <th>Lagging_Current_Reactive.Power_kVarh</th>\n",
       "      <th>Leading_Current_Reactive_Power_kVarh</th>\n",
       "      <th>CO2(tCO2)</th>\n",
       "      <th>Lagging_Current_Power_Factor</th>\n",
       "      <th>Leading_Current_Power_Factor</th>\n",
       "      <th>NSM</th>\n",
       "      <th>WeekStatus</th>\n",
       "      <th>Day_of_week</th>\n",
       "      <th>Load_Type</th>\n",
       "    </tr>\n",
       "  </thead>\n",
       "  <tbody>\n",
       "    <tr>\n",
       "      <th>0</th>\n",
       "      <td>3.17</td>\n",
       "      <td>2.95</td>\n",
       "      <td>0.0</td>\n",
       "      <td>0.0</td>\n",
       "      <td>73.21</td>\n",
       "      <td>100.0</td>\n",
       "      <td>900</td>\n",
       "      <td>Weekday</td>\n",
       "      <td>Monday</td>\n",
       "      <td>Light_Load</td>\n",
       "    </tr>\n",
       "    <tr>\n",
       "      <th>1</th>\n",
       "      <td>4.00</td>\n",
       "      <td>4.46</td>\n",
       "      <td>0.0</td>\n",
       "      <td>0.0</td>\n",
       "      <td>66.77</td>\n",
       "      <td>100.0</td>\n",
       "      <td>1800</td>\n",
       "      <td>Weekday</td>\n",
       "      <td>Monday</td>\n",
       "      <td>Light_Load</td>\n",
       "    </tr>\n",
       "    <tr>\n",
       "      <th>2</th>\n",
       "      <td>3.24</td>\n",
       "      <td>3.28</td>\n",
       "      <td>0.0</td>\n",
       "      <td>0.0</td>\n",
       "      <td>70.28</td>\n",
       "      <td>100.0</td>\n",
       "      <td>2700</td>\n",
       "      <td>Weekday</td>\n",
       "      <td>Monday</td>\n",
       "      <td>Light_Load</td>\n",
       "    </tr>\n",
       "    <tr>\n",
       "      <th>3</th>\n",
       "      <td>3.31</td>\n",
       "      <td>3.56</td>\n",
       "      <td>0.0</td>\n",
       "      <td>0.0</td>\n",
       "      <td>68.09</td>\n",
       "      <td>100.0</td>\n",
       "      <td>3600</td>\n",
       "      <td>Weekday</td>\n",
       "      <td>Monday</td>\n",
       "      <td>Light_Load</td>\n",
       "    </tr>\n",
       "    <tr>\n",
       "      <th>4</th>\n",
       "      <td>3.82</td>\n",
       "      <td>4.50</td>\n",
       "      <td>0.0</td>\n",
       "      <td>0.0</td>\n",
       "      <td>64.72</td>\n",
       "      <td>100.0</td>\n",
       "      <td>4500</td>\n",
       "      <td>Weekday</td>\n",
       "      <td>Monday</td>\n",
       "      <td>Light_Load</td>\n",
       "    </tr>\n",
       "  </tbody>\n",
       "</table>\n",
       "</div>"
      ],
      "text/plain": [
       "   Usage_kWh  Lagging_Current_Reactive.Power_kVarh  \\\n",
       "0       3.17                                  2.95   \n",
       "1       4.00                                  4.46   \n",
       "2       3.24                                  3.28   \n",
       "3       3.31                                  3.56   \n",
       "4       3.82                                  4.50   \n",
       "\n",
       "   Leading_Current_Reactive_Power_kVarh  CO2(tCO2)  \\\n",
       "0                                   0.0        0.0   \n",
       "1                                   0.0        0.0   \n",
       "2                                   0.0        0.0   \n",
       "3                                   0.0        0.0   \n",
       "4                                   0.0        0.0   \n",
       "\n",
       "   Lagging_Current_Power_Factor  Leading_Current_Power_Factor   NSM  \\\n",
       "0                         73.21                         100.0   900   \n",
       "1                         66.77                         100.0  1800   \n",
       "2                         70.28                         100.0  2700   \n",
       "3                         68.09                         100.0  3600   \n",
       "4                         64.72                         100.0  4500   \n",
       "\n",
       "  WeekStatus Day_of_week   Load_Type  \n",
       "0    Weekday      Monday  Light_Load  \n",
       "1    Weekday      Monday  Light_Load  \n",
       "2    Weekday      Monday  Light_Load  \n",
       "3    Weekday      Monday  Light_Load  \n",
       "4    Weekday      Monday  Light_Load  "
      ]
     },
     "execution_count": 582,
     "metadata": {},
     "output_type": "execute_result"
    }
   ],
   "source": [
    "df.head()"
   ]
  },
  {
   "cell_type": "code",
   "execution_count": 583,
   "id": "83529e15-e3f9-4f81-8a67-bea24c9a22c3",
   "metadata": {},
   "outputs": [
    {
     "data": {
      "text/html": [
       "<div>\n",
       "<style scoped>\n",
       "    .dataframe tbody tr th:only-of-type {\n",
       "        vertical-align: middle;\n",
       "    }\n",
       "\n",
       "    .dataframe tbody tr th {\n",
       "        vertical-align: top;\n",
       "    }\n",
       "\n",
       "    .dataframe thead th {\n",
       "        text-align: right;\n",
       "    }\n",
       "</style>\n",
       "<table border=\"1\" class=\"dataframe\">\n",
       "  <thead>\n",
       "    <tr style=\"text-align: right;\">\n",
       "      <th></th>\n",
       "      <th>Usage_kWh</th>\n",
       "      <th>Lagging_Current_Reactive.Power_kVarh</th>\n",
       "      <th>Leading_Current_Reactive_Power_kVarh</th>\n",
       "      <th>CO2(tCO2)</th>\n",
       "      <th>Lagging_Current_Power_Factor</th>\n",
       "      <th>Leading_Current_Power_Factor</th>\n",
       "      <th>NSM</th>\n",
       "    </tr>\n",
       "  </thead>\n",
       "  <tbody>\n",
       "    <tr>\n",
       "      <th>count</th>\n",
       "      <td>35040.000000</td>\n",
       "      <td>35040.000000</td>\n",
       "      <td>35040.000000</td>\n",
       "      <td>35040.000000</td>\n",
       "      <td>35040.000000</td>\n",
       "      <td>35040.000000</td>\n",
       "      <td>35040.000000</td>\n",
       "    </tr>\n",
       "    <tr>\n",
       "      <th>mean</th>\n",
       "      <td>27.386892</td>\n",
       "      <td>13.035384</td>\n",
       "      <td>3.870949</td>\n",
       "      <td>0.011524</td>\n",
       "      <td>80.578056</td>\n",
       "      <td>84.367870</td>\n",
       "      <td>42750.000000</td>\n",
       "    </tr>\n",
       "    <tr>\n",
       "      <th>std</th>\n",
       "      <td>33.444380</td>\n",
       "      <td>16.306000</td>\n",
       "      <td>7.424463</td>\n",
       "      <td>0.016151</td>\n",
       "      <td>18.921322</td>\n",
       "      <td>30.456535</td>\n",
       "      <td>24940.534317</td>\n",
       "    </tr>\n",
       "    <tr>\n",
       "      <th>min</th>\n",
       "      <td>0.000000</td>\n",
       "      <td>0.000000</td>\n",
       "      <td>0.000000</td>\n",
       "      <td>0.000000</td>\n",
       "      <td>0.000000</td>\n",
       "      <td>0.000000</td>\n",
       "      <td>0.000000</td>\n",
       "    </tr>\n",
       "    <tr>\n",
       "      <th>25%</th>\n",
       "      <td>3.200000</td>\n",
       "      <td>2.300000</td>\n",
       "      <td>0.000000</td>\n",
       "      <td>0.000000</td>\n",
       "      <td>63.320000</td>\n",
       "      <td>99.700000</td>\n",
       "      <td>21375.000000</td>\n",
       "    </tr>\n",
       "    <tr>\n",
       "      <th>50%</th>\n",
       "      <td>4.570000</td>\n",
       "      <td>5.000000</td>\n",
       "      <td>0.000000</td>\n",
       "      <td>0.000000</td>\n",
       "      <td>87.960000</td>\n",
       "      <td>100.000000</td>\n",
       "      <td>42750.000000</td>\n",
       "    </tr>\n",
       "    <tr>\n",
       "      <th>75%</th>\n",
       "      <td>51.237500</td>\n",
       "      <td>22.640000</td>\n",
       "      <td>2.090000</td>\n",
       "      <td>0.020000</td>\n",
       "      <td>99.022500</td>\n",
       "      <td>100.000000</td>\n",
       "      <td>64125.000000</td>\n",
       "    </tr>\n",
       "    <tr>\n",
       "      <th>max</th>\n",
       "      <td>157.180000</td>\n",
       "      <td>96.910000</td>\n",
       "      <td>27.760000</td>\n",
       "      <td>0.070000</td>\n",
       "      <td>100.000000</td>\n",
       "      <td>100.000000</td>\n",
       "      <td>85500.000000</td>\n",
       "    </tr>\n",
       "  </tbody>\n",
       "</table>\n",
       "</div>"
      ],
      "text/plain": [
       "          Usage_kWh  Lagging_Current_Reactive.Power_kVarh  \\\n",
       "count  35040.000000                          35040.000000   \n",
       "mean      27.386892                             13.035384   \n",
       "std       33.444380                             16.306000   \n",
       "min        0.000000                              0.000000   \n",
       "25%        3.200000                              2.300000   \n",
       "50%        4.570000                              5.000000   \n",
       "75%       51.237500                             22.640000   \n",
       "max      157.180000                             96.910000   \n",
       "\n",
       "       Leading_Current_Reactive_Power_kVarh     CO2(tCO2)  \\\n",
       "count                          35040.000000  35040.000000   \n",
       "mean                               3.870949      0.011524   \n",
       "std                                7.424463      0.016151   \n",
       "min                                0.000000      0.000000   \n",
       "25%                                0.000000      0.000000   \n",
       "50%                                0.000000      0.000000   \n",
       "75%                                2.090000      0.020000   \n",
       "max                               27.760000      0.070000   \n",
       "\n",
       "       Lagging_Current_Power_Factor  Leading_Current_Power_Factor  \\\n",
       "count                  35040.000000                  35040.000000   \n",
       "mean                      80.578056                     84.367870   \n",
       "std                       18.921322                     30.456535   \n",
       "min                        0.000000                      0.000000   \n",
       "25%                       63.320000                     99.700000   \n",
       "50%                       87.960000                    100.000000   \n",
       "75%                       99.022500                    100.000000   \n",
       "max                      100.000000                    100.000000   \n",
       "\n",
       "                NSM  \n",
       "count  35040.000000  \n",
       "mean   42750.000000  \n",
       "std    24940.534317  \n",
       "min        0.000000  \n",
       "25%    21375.000000  \n",
       "50%    42750.000000  \n",
       "75%    64125.000000  \n",
       "max    85500.000000  "
      ]
     },
     "execution_count": 583,
     "metadata": {},
     "output_type": "execute_result"
    }
   ],
   "source": [
    "df.describe()"
   ]
  },
  {
   "cell_type": "code",
   "execution_count": 584,
   "id": "226664af-0662-4fc8-88aa-8cb7f33b7cba",
   "metadata": {},
   "outputs": [],
   "source": [
    "from sklearn.preprocessing import LabelEncoder\n",
    "le=LabelEncoder()"
   ]
  },
  {
   "cell_type": "code",
   "execution_count": 585,
   "id": "5a849ad4-0789-4540-8f9e-3a907054a3a3",
   "metadata": {},
   "outputs": [
    {
     "data": {
      "text/plain": [
       "Index(['Usage_kWh', 'Lagging_Current_Reactive.Power_kVarh',\n",
       "       'Leading_Current_Reactive_Power_kVarh', 'CO2(tCO2)',\n",
       "       'Lagging_Current_Power_Factor', 'Leading_Current_Power_Factor', 'NSM',\n",
       "       'WeekStatus', 'Day_of_week', 'Load_Type'],\n",
       "      dtype='object')"
      ]
     },
     "execution_count": 585,
     "metadata": {},
     "output_type": "execute_result"
    }
   ],
   "source": [
    "df.columns"
   ]
  },
  {
   "cell_type": "code",
   "execution_count": 586,
   "id": "b37f9540-b719-4d92-909b-40876832f421",
   "metadata": {},
   "outputs": [],
   "source": [
    "df['WeekStatus']=le.fit_transform(df['WeekStatus'])\n",
    "df['Day_of_week']=le.fit_transform(df['Day_of_week'])\n",
    "df['Load_Type']=le.fit_transform(df['Load_Type'])"
   ]
  },
  {
   "cell_type": "code",
   "execution_count": 587,
   "id": "d7925e97-1bb1-4421-bb5e-19eb03724bcc",
   "metadata": {},
   "outputs": [],
   "source": [
    "from sklearn.preprocessing import StandardScaler\n",
    "ss = StandardScaler()"
   ]
  },
  {
   "cell_type": "code",
   "execution_count": 588,
   "id": "e5bf09fb-c40b-4cd6-acf6-c9709e2aa478",
   "metadata": {},
   "outputs": [],
   "source": [
    "cols = ['Usage_kWh', 'Lagging_Current_Reactive.Power_kVarh',\n",
    "       'Leading_Current_Reactive_Power_kVarh', 'CO2(tCO2)',\n",
    "       'Lagging_Current_Power_Factor', 'Leading_Current_Power_Factor', 'NSM']"
   ]
  },
  {
   "cell_type": "code",
   "execution_count": 589,
   "id": "c5158f3a-0af2-4106-8ec2-662507a96945",
   "metadata": {},
   "outputs": [],
   "source": [
    "df[cols]=ss.fit_transform(df[cols])"
   ]
  },
  {
   "cell_type": "code",
   "execution_count": 590,
   "id": "d3b810e0-1e5f-45ba-b89a-46ebf9d30821",
   "metadata": {},
   "outputs": [
    {
     "data": {
      "text/html": [
       "<div>\n",
       "<style scoped>\n",
       "    .dataframe tbody tr th:only-of-type {\n",
       "        vertical-align: middle;\n",
       "    }\n",
       "\n",
       "    .dataframe tbody tr th {\n",
       "        vertical-align: top;\n",
       "    }\n",
       "\n",
       "    .dataframe thead th {\n",
       "        text-align: right;\n",
       "    }\n",
       "</style>\n",
       "<table border=\"1\" class=\"dataframe\">\n",
       "  <thead>\n",
       "    <tr style=\"text-align: right;\">\n",
       "      <th></th>\n",
       "      <th>Usage_kWh</th>\n",
       "      <th>Lagging_Current_Reactive.Power_kVarh</th>\n",
       "      <th>Leading_Current_Reactive_Power_kVarh</th>\n",
       "      <th>CO2(tCO2)</th>\n",
       "      <th>Lagging_Current_Power_Factor</th>\n",
       "      <th>Leading_Current_Power_Factor</th>\n",
       "      <th>NSM</th>\n",
       "      <th>WeekStatus</th>\n",
       "      <th>Day_of_week</th>\n",
       "      <th>Load_Type</th>\n",
       "    </tr>\n",
       "  </thead>\n",
       "  <tbody>\n",
       "    <tr>\n",
       "      <th>0</th>\n",
       "      <td>-0.724105</td>\n",
       "      <td>-0.618516</td>\n",
       "      <td>-0.521385</td>\n",
       "      <td>-0.71355</td>\n",
       "      <td>-0.389410</td>\n",
       "      <td>0.513268</td>\n",
       "      <td>-1.678015</td>\n",
       "      <td>0</td>\n",
       "      <td>1</td>\n",
       "      <td>0</td>\n",
       "    </tr>\n",
       "    <tr>\n",
       "      <th>1</th>\n",
       "      <td>-0.699287</td>\n",
       "      <td>-0.525911</td>\n",
       "      <td>-0.521385</td>\n",
       "      <td>-0.71355</td>\n",
       "      <td>-0.729772</td>\n",
       "      <td>0.513268</td>\n",
       "      <td>-1.641929</td>\n",
       "      <td>0</td>\n",
       "      <td>1</td>\n",
       "      <td>0</td>\n",
       "    </tr>\n",
       "    <tr>\n",
       "      <th>2</th>\n",
       "      <td>-0.722012</td>\n",
       "      <td>-0.598278</td>\n",
       "      <td>-0.521385</td>\n",
       "      <td>-0.71355</td>\n",
       "      <td>-0.544264</td>\n",
       "      <td>0.513268</td>\n",
       "      <td>-1.605843</td>\n",
       "      <td>0</td>\n",
       "      <td>1</td>\n",
       "      <td>0</td>\n",
       "    </tr>\n",
       "    <tr>\n",
       "      <th>3</th>\n",
       "      <td>-0.719919</td>\n",
       "      <td>-0.581106</td>\n",
       "      <td>-0.521385</td>\n",
       "      <td>-0.71355</td>\n",
       "      <td>-0.660009</td>\n",
       "      <td>0.513268</td>\n",
       "      <td>-1.569756</td>\n",
       "      <td>0</td>\n",
       "      <td>1</td>\n",
       "      <td>0</td>\n",
       "    </tr>\n",
       "    <tr>\n",
       "      <th>4</th>\n",
       "      <td>-0.704669</td>\n",
       "      <td>-0.523458</td>\n",
       "      <td>-0.521385</td>\n",
       "      <td>-0.71355</td>\n",
       "      <td>-0.838117</td>\n",
       "      <td>0.513268</td>\n",
       "      <td>-1.533670</td>\n",
       "      <td>0</td>\n",
       "      <td>1</td>\n",
       "      <td>0</td>\n",
       "    </tr>\n",
       "  </tbody>\n",
       "</table>\n",
       "</div>"
      ],
      "text/plain": [
       "   Usage_kWh  Lagging_Current_Reactive.Power_kVarh  \\\n",
       "0  -0.724105                             -0.618516   \n",
       "1  -0.699287                             -0.525911   \n",
       "2  -0.722012                             -0.598278   \n",
       "3  -0.719919                             -0.581106   \n",
       "4  -0.704669                             -0.523458   \n",
       "\n",
       "   Leading_Current_Reactive_Power_kVarh  CO2(tCO2)  \\\n",
       "0                             -0.521385   -0.71355   \n",
       "1                             -0.521385   -0.71355   \n",
       "2                             -0.521385   -0.71355   \n",
       "3                             -0.521385   -0.71355   \n",
       "4                             -0.521385   -0.71355   \n",
       "\n",
       "   Lagging_Current_Power_Factor  Leading_Current_Power_Factor       NSM  \\\n",
       "0                     -0.389410                      0.513268 -1.678015   \n",
       "1                     -0.729772                      0.513268 -1.641929   \n",
       "2                     -0.544264                      0.513268 -1.605843   \n",
       "3                     -0.660009                      0.513268 -1.569756   \n",
       "4                     -0.838117                      0.513268 -1.533670   \n",
       "\n",
       "   WeekStatus  Day_of_week  Load_Type  \n",
       "0           0            1          0  \n",
       "1           0            1          0  \n",
       "2           0            1          0  \n",
       "3           0            1          0  \n",
       "4           0            1          0  "
      ]
     },
     "execution_count": 590,
     "metadata": {},
     "output_type": "execute_result"
    }
   ],
   "source": [
    "df.head()"
   ]
  },
  {
   "cell_type": "code",
   "execution_count": 591,
   "id": "58e909b5-0f2a-4676-bcfe-d560913eee0f",
   "metadata": {},
   "outputs": [],
   "source": [
    "from sklearn.model_selection import train_test_split"
   ]
  },
  {
   "cell_type": "code",
   "execution_count": 592,
   "id": "573088d7-a5e7-47c7-8f20-926bc83cf7d4",
   "metadata": {},
   "outputs": [],
   "source": [
    "X = df[['Lagging_Current_Reactive.Power_kVarh',\n",
    "       'Leading_Current_Reactive_Power_kVarh', 'CO2(tCO2)',\n",
    "       'Lagging_Current_Power_Factor', 'Leading_Current_Power_Factor', 'NSM']]\n",
    "Y = df['Usage_kWh']"
   ]
  },
  {
   "cell_type": "code",
   "execution_count": 593,
   "id": "9d8acdbe-11c6-4dbd-9862-b88682eb4588",
   "metadata": {},
   "outputs": [],
   "source": [
    "X_train, X_test, Y_train,Y_test = train_test_split(X, Y, test_size=0.3)"
   ]
  },
  {
   "cell_type": "code",
   "execution_count": 594,
   "id": "38f84296-8e8e-43e4-88f8-cff312e20d67",
   "metadata": {},
   "outputs": [],
   "source": [
    "from sklearn.ensemble import RandomForestRegressor"
   ]
  },
  {
   "cell_type": "code",
   "execution_count": 595,
   "id": "6221d1d1-ebd4-4d3c-ada3-55dc3030fea7",
   "metadata": {},
   "outputs": [],
   "source": [
    "rf = RandomForestRegressor()"
   ]
  },
  {
   "cell_type": "code",
   "execution_count": 596,
   "id": "5bee68d5-3342-46b9-9874-eba7b0aebce9",
   "metadata": {},
   "outputs": [
    {
     "data": {
      "text/html": [
       "<style>#sk-container-id-34 {color: black;}#sk-container-id-34 pre{padding: 0;}#sk-container-id-34 div.sk-toggleable {background-color: white;}#sk-container-id-34 label.sk-toggleable__label {cursor: pointer;display: block;width: 100%;margin-bottom: 0;padding: 0.3em;box-sizing: border-box;text-align: center;}#sk-container-id-34 label.sk-toggleable__label-arrow:before {content: \"▸\";float: left;margin-right: 0.25em;color: #696969;}#sk-container-id-34 label.sk-toggleable__label-arrow:hover:before {color: black;}#sk-container-id-34 div.sk-estimator:hover label.sk-toggleable__label-arrow:before {color: black;}#sk-container-id-34 div.sk-toggleable__content {max-height: 0;max-width: 0;overflow: hidden;text-align: left;background-color: #f0f8ff;}#sk-container-id-34 div.sk-toggleable__content pre {margin: 0.2em;color: black;border-radius: 0.25em;background-color: #f0f8ff;}#sk-container-id-34 input.sk-toggleable__control:checked~div.sk-toggleable__content {max-height: 200px;max-width: 100%;overflow: auto;}#sk-container-id-34 input.sk-toggleable__control:checked~label.sk-toggleable__label-arrow:before {content: \"▾\";}#sk-container-id-34 div.sk-estimator input.sk-toggleable__control:checked~label.sk-toggleable__label {background-color: #d4ebff;}#sk-container-id-34 div.sk-label input.sk-toggleable__control:checked~label.sk-toggleable__label {background-color: #d4ebff;}#sk-container-id-34 input.sk-hidden--visually {border: 0;clip: rect(1px 1px 1px 1px);clip: rect(1px, 1px, 1px, 1px);height: 1px;margin: -1px;overflow: hidden;padding: 0;position: absolute;width: 1px;}#sk-container-id-34 div.sk-estimator {font-family: monospace;background-color: #f0f8ff;border: 1px dotted black;border-radius: 0.25em;box-sizing: border-box;margin-bottom: 0.5em;}#sk-container-id-34 div.sk-estimator:hover {background-color: #d4ebff;}#sk-container-id-34 div.sk-parallel-item::after {content: \"\";width: 100%;border-bottom: 1px solid gray;flex-grow: 1;}#sk-container-id-34 div.sk-label:hover label.sk-toggleable__label {background-color: #d4ebff;}#sk-container-id-34 div.sk-serial::before {content: \"\";position: absolute;border-left: 1px solid gray;box-sizing: border-box;top: 0;bottom: 0;left: 50%;z-index: 0;}#sk-container-id-34 div.sk-serial {display: flex;flex-direction: column;align-items: center;background-color: white;padding-right: 0.2em;padding-left: 0.2em;position: relative;}#sk-container-id-34 div.sk-item {position: relative;z-index: 1;}#sk-container-id-34 div.sk-parallel {display: flex;align-items: stretch;justify-content: center;background-color: white;position: relative;}#sk-container-id-34 div.sk-item::before, #sk-container-id-34 div.sk-parallel-item::before {content: \"\";position: absolute;border-left: 1px solid gray;box-sizing: border-box;top: 0;bottom: 0;left: 50%;z-index: -1;}#sk-container-id-34 div.sk-parallel-item {display: flex;flex-direction: column;z-index: 1;position: relative;background-color: white;}#sk-container-id-34 div.sk-parallel-item:first-child::after {align-self: flex-end;width: 50%;}#sk-container-id-34 div.sk-parallel-item:last-child::after {align-self: flex-start;width: 50%;}#sk-container-id-34 div.sk-parallel-item:only-child::after {width: 0;}#sk-container-id-34 div.sk-dashed-wrapped {border: 1px dashed gray;margin: 0 0.4em 0.5em 0.4em;box-sizing: border-box;padding-bottom: 0.4em;background-color: white;}#sk-container-id-34 div.sk-label label {font-family: monospace;font-weight: bold;display: inline-block;line-height: 1.2em;}#sk-container-id-34 div.sk-label-container {text-align: center;}#sk-container-id-34 div.sk-container {/* jupyter's `normalize.less` sets `[hidden] { display: none; }` but bootstrap.min.css set `[hidden] { display: none !important; }` so we also need the `!important` here to be able to override the default hidden behavior on the sphinx rendered scikit-learn.org. See: https://github.com/scikit-learn/scikit-learn/issues/21755 */display: inline-block !important;position: relative;}#sk-container-id-34 div.sk-text-repr-fallback {display: none;}</style><div id=\"sk-container-id-34\" class=\"sk-top-container\"><div class=\"sk-text-repr-fallback\"><pre>RandomForestRegressor()</pre><b>In a Jupyter environment, please rerun this cell to show the HTML representation or trust the notebook. <br />On GitHub, the HTML representation is unable to render, please try loading this page with nbviewer.org.</b></div><div class=\"sk-container\" hidden><div class=\"sk-item\"><div class=\"sk-estimator sk-toggleable\"><input class=\"sk-toggleable__control sk-hidden--visually\" id=\"sk-estimator-id-34\" type=\"checkbox\" checked><label for=\"sk-estimator-id-34\" class=\"sk-toggleable__label sk-toggleable__label-arrow\">RandomForestRegressor</label><div class=\"sk-toggleable__content\"><pre>RandomForestRegressor()</pre></div></div></div></div></div>"
      ],
      "text/plain": [
       "RandomForestRegressor()"
      ]
     },
     "execution_count": 596,
     "metadata": {},
     "output_type": "execute_result"
    }
   ],
   "source": [
    "rf.fit(X_train,Y_train)"
   ]
  },
  {
   "cell_type": "code",
   "execution_count": 597,
   "id": "08aa0eea-a283-46e5-837e-b23479b0975c",
   "metadata": {},
   "outputs": [],
   "source": [
    "y_pred_rf = rf.predict(X_test)"
   ]
  },
  {
   "cell_type": "code",
   "execution_count": 598,
   "id": "10e3491b-5c95-44e8-a813-4e014db50b7f",
   "metadata": {},
   "outputs": [],
   "source": [
    "from sklearn.metrics import mean_absolute_error, mean_squared_error"
   ]
  },
  {
   "cell_type": "code",
   "execution_count": 599,
   "id": "92d2729d-a654-440f-b286-cbb82f47ba18",
   "metadata": {},
   "outputs": [
    {
     "data": {
      "text/plain": [
       "0.009618169448456977"
      ]
     },
     "execution_count": 599,
     "metadata": {},
     "output_type": "execute_result"
    }
   ],
   "source": [
    "mean_absolute_error(Y_test,y_pred_rf)"
   ]
  },
  {
   "cell_type": "code",
   "execution_count": 600,
   "id": "3eec561c-660e-4573-9c67-3286d6d0a8e2",
   "metadata": {},
   "outputs": [
    {
     "data": {
      "text/plain": [
       "0.0007800820597577511"
      ]
     },
     "execution_count": 600,
     "metadata": {},
     "output_type": "execute_result"
    }
   ],
   "source": [
    "mean_squared_error(Y_test,y_pred_rf)"
   ]
  },
  {
   "cell_type": "code",
   "execution_count": 601,
   "id": "a1e9dd3d-8fb5-4244-bd20-a5af541487db",
   "metadata": {},
   "outputs": [],
   "source": [
    "import xgboost as xgb"
   ]
  },
  {
   "cell_type": "code",
   "execution_count": 602,
   "id": "af6443e7-99e6-438a-ac13-d7056f609f83",
   "metadata": {},
   "outputs": [],
   "source": [
    "xg_reg = xgb.XGBRegressor(objective='reg:squarederror', colsample_bytree=0.3, learning_rate=0.1,\n",
    "                          max_depth=5, alpha=10, n_estimators=100)"
   ]
  },
  {
   "cell_type": "code",
   "execution_count": 603,
   "id": "a05991cb-db12-4fa2-b72d-4268651b7e48",
   "metadata": {},
   "outputs": [
    {
     "data": {
      "text/html": [
       "<style>#sk-container-id-35 {color: black;}#sk-container-id-35 pre{padding: 0;}#sk-container-id-35 div.sk-toggleable {background-color: white;}#sk-container-id-35 label.sk-toggleable__label {cursor: pointer;display: block;width: 100%;margin-bottom: 0;padding: 0.3em;box-sizing: border-box;text-align: center;}#sk-container-id-35 label.sk-toggleable__label-arrow:before {content: \"▸\";float: left;margin-right: 0.25em;color: #696969;}#sk-container-id-35 label.sk-toggleable__label-arrow:hover:before {color: black;}#sk-container-id-35 div.sk-estimator:hover label.sk-toggleable__label-arrow:before {color: black;}#sk-container-id-35 div.sk-toggleable__content {max-height: 0;max-width: 0;overflow: hidden;text-align: left;background-color: #f0f8ff;}#sk-container-id-35 div.sk-toggleable__content pre {margin: 0.2em;color: black;border-radius: 0.25em;background-color: #f0f8ff;}#sk-container-id-35 input.sk-toggleable__control:checked~div.sk-toggleable__content {max-height: 200px;max-width: 100%;overflow: auto;}#sk-container-id-35 input.sk-toggleable__control:checked~label.sk-toggleable__label-arrow:before {content: \"▾\";}#sk-container-id-35 div.sk-estimator input.sk-toggleable__control:checked~label.sk-toggleable__label {background-color: #d4ebff;}#sk-container-id-35 div.sk-label input.sk-toggleable__control:checked~label.sk-toggleable__label {background-color: #d4ebff;}#sk-container-id-35 input.sk-hidden--visually {border: 0;clip: rect(1px 1px 1px 1px);clip: rect(1px, 1px, 1px, 1px);height: 1px;margin: -1px;overflow: hidden;padding: 0;position: absolute;width: 1px;}#sk-container-id-35 div.sk-estimator {font-family: monospace;background-color: #f0f8ff;border: 1px dotted black;border-radius: 0.25em;box-sizing: border-box;margin-bottom: 0.5em;}#sk-container-id-35 div.sk-estimator:hover {background-color: #d4ebff;}#sk-container-id-35 div.sk-parallel-item::after {content: \"\";width: 100%;border-bottom: 1px solid gray;flex-grow: 1;}#sk-container-id-35 div.sk-label:hover label.sk-toggleable__label {background-color: #d4ebff;}#sk-container-id-35 div.sk-serial::before {content: \"\";position: absolute;border-left: 1px solid gray;box-sizing: border-box;top: 0;bottom: 0;left: 50%;z-index: 0;}#sk-container-id-35 div.sk-serial {display: flex;flex-direction: column;align-items: center;background-color: white;padding-right: 0.2em;padding-left: 0.2em;position: relative;}#sk-container-id-35 div.sk-item {position: relative;z-index: 1;}#sk-container-id-35 div.sk-parallel {display: flex;align-items: stretch;justify-content: center;background-color: white;position: relative;}#sk-container-id-35 div.sk-item::before, #sk-container-id-35 div.sk-parallel-item::before {content: \"\";position: absolute;border-left: 1px solid gray;box-sizing: border-box;top: 0;bottom: 0;left: 50%;z-index: -1;}#sk-container-id-35 div.sk-parallel-item {display: flex;flex-direction: column;z-index: 1;position: relative;background-color: white;}#sk-container-id-35 div.sk-parallel-item:first-child::after {align-self: flex-end;width: 50%;}#sk-container-id-35 div.sk-parallel-item:last-child::after {align-self: flex-start;width: 50%;}#sk-container-id-35 div.sk-parallel-item:only-child::after {width: 0;}#sk-container-id-35 div.sk-dashed-wrapped {border: 1px dashed gray;margin: 0 0.4em 0.5em 0.4em;box-sizing: border-box;padding-bottom: 0.4em;background-color: white;}#sk-container-id-35 div.sk-label label {font-family: monospace;font-weight: bold;display: inline-block;line-height: 1.2em;}#sk-container-id-35 div.sk-label-container {text-align: center;}#sk-container-id-35 div.sk-container {/* jupyter's `normalize.less` sets `[hidden] { display: none; }` but bootstrap.min.css set `[hidden] { display: none !important; }` so we also need the `!important` here to be able to override the default hidden behavior on the sphinx rendered scikit-learn.org. See: https://github.com/scikit-learn/scikit-learn/issues/21755 */display: inline-block !important;position: relative;}#sk-container-id-35 div.sk-text-repr-fallback {display: none;}</style><div id=\"sk-container-id-35\" class=\"sk-top-container\"><div class=\"sk-text-repr-fallback\"><pre>XGBRegressor(alpha=10, base_score=None, booster=None, callbacks=None,\n",
       "             colsample_bylevel=None, colsample_bynode=None,\n",
       "             colsample_bytree=0.3, device=None, early_stopping_rounds=None,\n",
       "             enable_categorical=False, eval_metric=None, feature_types=None,\n",
       "             gamma=None, grow_policy=None, importance_type=None,\n",
       "             interaction_constraints=None, learning_rate=0.1, max_bin=None,\n",
       "             max_cat_threshold=None, max_cat_to_onehot=None,\n",
       "             max_delta_step=None, max_depth=5, max_leaves=None,\n",
       "             min_child_weight=None, missing=nan, monotone_constraints=None,\n",
       "             multi_strategy=None, n_estimators=100, n_jobs=None,\n",
       "             num_parallel_tree=None, ...)</pre><b>In a Jupyter environment, please rerun this cell to show the HTML representation or trust the notebook. <br />On GitHub, the HTML representation is unable to render, please try loading this page with nbviewer.org.</b></div><div class=\"sk-container\" hidden><div class=\"sk-item\"><div class=\"sk-estimator sk-toggleable\"><input class=\"sk-toggleable__control sk-hidden--visually\" id=\"sk-estimator-id-35\" type=\"checkbox\" checked><label for=\"sk-estimator-id-35\" class=\"sk-toggleable__label sk-toggleable__label-arrow\">XGBRegressor</label><div class=\"sk-toggleable__content\"><pre>XGBRegressor(alpha=10, base_score=None, booster=None, callbacks=None,\n",
       "             colsample_bylevel=None, colsample_bynode=None,\n",
       "             colsample_bytree=0.3, device=None, early_stopping_rounds=None,\n",
       "             enable_categorical=False, eval_metric=None, feature_types=None,\n",
       "             gamma=None, grow_policy=None, importance_type=None,\n",
       "             interaction_constraints=None, learning_rate=0.1, max_bin=None,\n",
       "             max_cat_threshold=None, max_cat_to_onehot=None,\n",
       "             max_delta_step=None, max_depth=5, max_leaves=None,\n",
       "             min_child_weight=None, missing=nan, monotone_constraints=None,\n",
       "             multi_strategy=None, n_estimators=100, n_jobs=None,\n",
       "             num_parallel_tree=None, ...)</pre></div></div></div></div></div>"
      ],
      "text/plain": [
       "XGBRegressor(alpha=10, base_score=None, booster=None, callbacks=None,\n",
       "             colsample_bylevel=None, colsample_bynode=None,\n",
       "             colsample_bytree=0.3, device=None, early_stopping_rounds=None,\n",
       "             enable_categorical=False, eval_metric=None, feature_types=None,\n",
       "             gamma=None, grow_policy=None, importance_type=None,\n",
       "             interaction_constraints=None, learning_rate=0.1, max_bin=None,\n",
       "             max_cat_threshold=None, max_cat_to_onehot=None,\n",
       "             max_delta_step=None, max_depth=5, max_leaves=None,\n",
       "             min_child_weight=None, missing=nan, monotone_constraints=None,\n",
       "             multi_strategy=None, n_estimators=100, n_jobs=None,\n",
       "             num_parallel_tree=None, ...)"
      ]
     },
     "execution_count": 603,
     "metadata": {},
     "output_type": "execute_result"
    }
   ],
   "source": [
    "xg_reg.fit(X_train, Y_train)"
   ]
  },
  {
   "cell_type": "code",
   "execution_count": 604,
   "id": "f9c66343-10f7-48a7-ba89-a81ffe4b8454",
   "metadata": {},
   "outputs": [],
   "source": [
    "y_pred_xg = xg_reg.predict(X_test)"
   ]
  },
  {
   "cell_type": "code",
   "execution_count": 605,
   "id": "9e1a2450-663f-4c7d-a991-55064ce45edc",
   "metadata": {},
   "outputs": [],
   "source": [
    "from sklearn.metrics import mean_absolute_error, mean_squared_error"
   ]
  },
  {
   "cell_type": "code",
   "execution_count": 606,
   "id": "84a7a27a-c906-487b-8c56-74b7fea918b0",
   "metadata": {},
   "outputs": [
    {
     "data": {
      "text/plain": [
       "0.0990063372015759"
      ]
     },
     "execution_count": 606,
     "metadata": {},
     "output_type": "execute_result"
    }
   ],
   "source": [
    "mean_absolute_error(Y_test,y_pred_xg)"
   ]
  },
  {
   "cell_type": "code",
   "execution_count": 607,
   "id": "841b596f-85f3-4927-b214-76a503836445",
   "metadata": {},
   "outputs": [
    {
     "data": {
      "text/plain": [
       "0.025453487529060213"
      ]
     },
     "execution_count": 607,
     "metadata": {},
     "output_type": "execute_result"
    }
   ],
   "source": [
    "mean_squared_error(Y_test,y_pred_xg)"
   ]
  },
  {
   "cell_type": "code",
   "execution_count": 608,
   "id": "748ecffc-d632-4d90-a077-4ae7dc9d72c8",
   "metadata": {},
   "outputs": [],
   "source": [
    "from sklearn.neighbors import KNeighborsRegressor"
   ]
  },
  {
   "cell_type": "code",
   "execution_count": 609,
   "id": "fcb5f3af-4f16-477e-a828-cbdfe09d2c1a",
   "metadata": {},
   "outputs": [],
   "source": [
    "knn = KNeighborsRegressor()"
   ]
  },
  {
   "cell_type": "code",
   "execution_count": 610,
   "id": "16906643-7a22-455e-9261-e388b168f30f",
   "metadata": {},
   "outputs": [
    {
     "data": {
      "text/html": [
       "<style>#sk-container-id-36 {color: black;}#sk-container-id-36 pre{padding: 0;}#sk-container-id-36 div.sk-toggleable {background-color: white;}#sk-container-id-36 label.sk-toggleable__label {cursor: pointer;display: block;width: 100%;margin-bottom: 0;padding: 0.3em;box-sizing: border-box;text-align: center;}#sk-container-id-36 label.sk-toggleable__label-arrow:before {content: \"▸\";float: left;margin-right: 0.25em;color: #696969;}#sk-container-id-36 label.sk-toggleable__label-arrow:hover:before {color: black;}#sk-container-id-36 div.sk-estimator:hover label.sk-toggleable__label-arrow:before {color: black;}#sk-container-id-36 div.sk-toggleable__content {max-height: 0;max-width: 0;overflow: hidden;text-align: left;background-color: #f0f8ff;}#sk-container-id-36 div.sk-toggleable__content pre {margin: 0.2em;color: black;border-radius: 0.25em;background-color: #f0f8ff;}#sk-container-id-36 input.sk-toggleable__control:checked~div.sk-toggleable__content {max-height: 200px;max-width: 100%;overflow: auto;}#sk-container-id-36 input.sk-toggleable__control:checked~label.sk-toggleable__label-arrow:before {content: \"▾\";}#sk-container-id-36 div.sk-estimator input.sk-toggleable__control:checked~label.sk-toggleable__label {background-color: #d4ebff;}#sk-container-id-36 div.sk-label input.sk-toggleable__control:checked~label.sk-toggleable__label {background-color: #d4ebff;}#sk-container-id-36 input.sk-hidden--visually {border: 0;clip: rect(1px 1px 1px 1px);clip: rect(1px, 1px, 1px, 1px);height: 1px;margin: -1px;overflow: hidden;padding: 0;position: absolute;width: 1px;}#sk-container-id-36 div.sk-estimator {font-family: monospace;background-color: #f0f8ff;border: 1px dotted black;border-radius: 0.25em;box-sizing: border-box;margin-bottom: 0.5em;}#sk-container-id-36 div.sk-estimator:hover {background-color: #d4ebff;}#sk-container-id-36 div.sk-parallel-item::after {content: \"\";width: 100%;border-bottom: 1px solid gray;flex-grow: 1;}#sk-container-id-36 div.sk-label:hover label.sk-toggleable__label {background-color: #d4ebff;}#sk-container-id-36 div.sk-serial::before {content: \"\";position: absolute;border-left: 1px solid gray;box-sizing: border-box;top: 0;bottom: 0;left: 50%;z-index: 0;}#sk-container-id-36 div.sk-serial {display: flex;flex-direction: column;align-items: center;background-color: white;padding-right: 0.2em;padding-left: 0.2em;position: relative;}#sk-container-id-36 div.sk-item {position: relative;z-index: 1;}#sk-container-id-36 div.sk-parallel {display: flex;align-items: stretch;justify-content: center;background-color: white;position: relative;}#sk-container-id-36 div.sk-item::before, #sk-container-id-36 div.sk-parallel-item::before {content: \"\";position: absolute;border-left: 1px solid gray;box-sizing: border-box;top: 0;bottom: 0;left: 50%;z-index: -1;}#sk-container-id-36 div.sk-parallel-item {display: flex;flex-direction: column;z-index: 1;position: relative;background-color: white;}#sk-container-id-36 div.sk-parallel-item:first-child::after {align-self: flex-end;width: 50%;}#sk-container-id-36 div.sk-parallel-item:last-child::after {align-self: flex-start;width: 50%;}#sk-container-id-36 div.sk-parallel-item:only-child::after {width: 0;}#sk-container-id-36 div.sk-dashed-wrapped {border: 1px dashed gray;margin: 0 0.4em 0.5em 0.4em;box-sizing: border-box;padding-bottom: 0.4em;background-color: white;}#sk-container-id-36 div.sk-label label {font-family: monospace;font-weight: bold;display: inline-block;line-height: 1.2em;}#sk-container-id-36 div.sk-label-container {text-align: center;}#sk-container-id-36 div.sk-container {/* jupyter's `normalize.less` sets `[hidden] { display: none; }` but bootstrap.min.css set `[hidden] { display: none !important; }` so we also need the `!important` here to be able to override the default hidden behavior on the sphinx rendered scikit-learn.org. See: https://github.com/scikit-learn/scikit-learn/issues/21755 */display: inline-block !important;position: relative;}#sk-container-id-36 div.sk-text-repr-fallback {display: none;}</style><div id=\"sk-container-id-36\" class=\"sk-top-container\"><div class=\"sk-text-repr-fallback\"><pre>KNeighborsRegressor()</pre><b>In a Jupyter environment, please rerun this cell to show the HTML representation or trust the notebook. <br />On GitHub, the HTML representation is unable to render, please try loading this page with nbviewer.org.</b></div><div class=\"sk-container\" hidden><div class=\"sk-item\"><div class=\"sk-estimator sk-toggleable\"><input class=\"sk-toggleable__control sk-hidden--visually\" id=\"sk-estimator-id-36\" type=\"checkbox\" checked><label for=\"sk-estimator-id-36\" class=\"sk-toggleable__label sk-toggleable__label-arrow\">KNeighborsRegressor</label><div class=\"sk-toggleable__content\"><pre>KNeighborsRegressor()</pre></div></div></div></div></div>"
      ],
      "text/plain": [
       "KNeighborsRegressor()"
      ]
     },
     "execution_count": 610,
     "metadata": {},
     "output_type": "execute_result"
    }
   ],
   "source": [
    "knn.fit(X_train,Y_train)"
   ]
  },
  {
   "cell_type": "code",
   "execution_count": 611,
   "id": "e914bb1a-e339-4d1e-b635-b15bcacc28b1",
   "metadata": {},
   "outputs": [],
   "source": [
    "y_pred_knn = knn.predict(X_test)"
   ]
  },
  {
   "cell_type": "code",
   "execution_count": 612,
   "id": "cde19fa1-a319-4318-8dca-eaae1b169e62",
   "metadata": {},
   "outputs": [],
   "source": [
    "from sklearn.metrics import mean_absolute_error, mean_squared_error"
   ]
  },
  {
   "cell_type": "code",
   "execution_count": 613,
   "id": "31eeea73-4c61-4b18-8ac0-0118fc10458e",
   "metadata": {},
   "outputs": [
    {
     "data": {
      "text/plain": [
       "0.02812872688936916"
      ]
     },
     "execution_count": 613,
     "metadata": {},
     "output_type": "execute_result"
    }
   ],
   "source": [
    "mean_absolute_error(Y_test,y_pred_knn)"
   ]
  },
  {
   "cell_type": "code",
   "execution_count": 614,
   "id": "70783fd2-00fd-4abe-9a6c-f41f723b0676",
   "metadata": {},
   "outputs": [
    {
     "data": {
      "text/plain": [
       "0.003710037600878498"
      ]
     },
     "execution_count": 614,
     "metadata": {},
     "output_type": "execute_result"
    }
   ],
   "source": [
    "mean_squared_error(Y_test,y_pred_knn)"
   ]
  },
  {
   "cell_type": "code",
   "execution_count": 615,
   "id": "e3f29345-efb6-418f-b06b-7765791455bd",
   "metadata": {},
   "outputs": [],
   "source": [
    "import numpy as np\n",
    "import pandas as pd\n",
    "new_data = pd.read_csv(\"C://Users//NIRBHAY IMI-K//Desktop//ML assignment 2//Steel_industry_data - New Data.csv\")"
   ]
  },
  {
   "cell_type": "code",
   "execution_count": 616,
   "id": "011437a2-6839-40db-b784-f5e3d57f3c52",
   "metadata": {},
   "outputs": [
    {
     "data": {
      "text/html": [
       "<div>\n",
       "<style scoped>\n",
       "    .dataframe tbody tr th:only-of-type {\n",
       "        vertical-align: middle;\n",
       "    }\n",
       "\n",
       "    .dataframe tbody tr th {\n",
       "        vertical-align: top;\n",
       "    }\n",
       "\n",
       "    .dataframe thead th {\n",
       "        text-align: right;\n",
       "    }\n",
       "</style>\n",
       "<table border=\"1\" class=\"dataframe\">\n",
       "  <thead>\n",
       "    <tr style=\"text-align: right;\">\n",
       "      <th></th>\n",
       "      <th>date</th>\n",
       "      <th>Usage_kWh</th>\n",
       "      <th>Lagging_Current_Reactive.Power_kVarh</th>\n",
       "      <th>Leading_Current_Reactive_Power_kVarh</th>\n",
       "      <th>CO2(tCO2)</th>\n",
       "      <th>Lagging_Current_Power_Factor</th>\n",
       "      <th>Leading_Current_Power_Factor</th>\n",
       "      <th>NSM</th>\n",
       "    </tr>\n",
       "  </thead>\n",
       "  <tbody>\n",
       "    <tr>\n",
       "      <th>0</th>\n",
       "      <td>01-01-2018 00:15</td>\n",
       "      <td>3.17</td>\n",
       "      <td>2.95</td>\n",
       "      <td>0.0</td>\n",
       "      <td>0.0</td>\n",
       "      <td>73.21</td>\n",
       "      <td>100.0</td>\n",
       "      <td>900</td>\n",
       "    </tr>\n",
       "    <tr>\n",
       "      <th>1</th>\n",
       "      <td>01-01-2018 00:30</td>\n",
       "      <td>4.00</td>\n",
       "      <td>4.46</td>\n",
       "      <td>0.0</td>\n",
       "      <td>0.0</td>\n",
       "      <td>66.77</td>\n",
       "      <td>100.0</td>\n",
       "      <td>1800</td>\n",
       "    </tr>\n",
       "    <tr>\n",
       "      <th>2</th>\n",
       "      <td>01-01-2018 00:45</td>\n",
       "      <td>3.24</td>\n",
       "      <td>3.28</td>\n",
       "      <td>0.0</td>\n",
       "      <td>0.0</td>\n",
       "      <td>70.28</td>\n",
       "      <td>100.0</td>\n",
       "      <td>2700</td>\n",
       "    </tr>\n",
       "    <tr>\n",
       "      <th>3</th>\n",
       "      <td>01-01-2018 01:00</td>\n",
       "      <td>3.31</td>\n",
       "      <td>3.56</td>\n",
       "      <td>0.0</td>\n",
       "      <td>0.0</td>\n",
       "      <td>68.09</td>\n",
       "      <td>100.0</td>\n",
       "      <td>3600</td>\n",
       "    </tr>\n",
       "    <tr>\n",
       "      <th>4</th>\n",
       "      <td>01-01-2018 01:15</td>\n",
       "      <td>3.82</td>\n",
       "      <td>4.50</td>\n",
       "      <td>0.0</td>\n",
       "      <td>0.0</td>\n",
       "      <td>64.72</td>\n",
       "      <td>100.0</td>\n",
       "      <td>4500</td>\n",
       "    </tr>\n",
       "    <tr>\n",
       "      <th>...</th>\n",
       "      <td>...</td>\n",
       "      <td>...</td>\n",
       "      <td>...</td>\n",
       "      <td>...</td>\n",
       "      <td>...</td>\n",
       "      <td>...</td>\n",
       "      <td>...</td>\n",
       "      <td>...</td>\n",
       "    </tr>\n",
       "    <tr>\n",
       "      <th>379</th>\n",
       "      <td>01-04-2018 23:00</td>\n",
       "      <td>2.88</td>\n",
       "      <td>4.32</td>\n",
       "      <td>0.0</td>\n",
       "      <td>0.0</td>\n",
       "      <td>55.47</td>\n",
       "      <td>100.0</td>\n",
       "      <td>82800</td>\n",
       "    </tr>\n",
       "    <tr>\n",
       "      <th>380</th>\n",
       "      <td>01-04-2018 23:15</td>\n",
       "      <td>2.77</td>\n",
       "      <td>4.00</td>\n",
       "      <td>0.0</td>\n",
       "      <td>0.0</td>\n",
       "      <td>56.93</td>\n",
       "      <td>100.0</td>\n",
       "      <td>83700</td>\n",
       "    </tr>\n",
       "    <tr>\n",
       "      <th>381</th>\n",
       "      <td>01-04-2018 23:30</td>\n",
       "      <td>2.77</td>\n",
       "      <td>3.96</td>\n",
       "      <td>0.0</td>\n",
       "      <td>0.0</td>\n",
       "      <td>57.32</td>\n",
       "      <td>100.0</td>\n",
       "      <td>84600</td>\n",
       "    </tr>\n",
       "    <tr>\n",
       "      <th>382</th>\n",
       "      <td>01-04-2018 23:45</td>\n",
       "      <td>2.77</td>\n",
       "      <td>3.92</td>\n",
       "      <td>0.0</td>\n",
       "      <td>0.0</td>\n",
       "      <td>57.71</td>\n",
       "      <td>100.0</td>\n",
       "      <td>85500</td>\n",
       "    </tr>\n",
       "    <tr>\n",
       "      <th>383</th>\n",
       "      <td>01-04-2018 00:00</td>\n",
       "      <td>2.77</td>\n",
       "      <td>4.00</td>\n",
       "      <td>0.0</td>\n",
       "      <td>0.0</td>\n",
       "      <td>56.93</td>\n",
       "      <td>100.0</td>\n",
       "      <td>0</td>\n",
       "    </tr>\n",
       "  </tbody>\n",
       "</table>\n",
       "<p>384 rows × 8 columns</p>\n",
       "</div>"
      ],
      "text/plain": [
       "                 date  Usage_kWh  Lagging_Current_Reactive.Power_kVarh  \\\n",
       "0    01-01-2018 00:15       3.17                                  2.95   \n",
       "1    01-01-2018 00:30       4.00                                  4.46   \n",
       "2    01-01-2018 00:45       3.24                                  3.28   \n",
       "3    01-01-2018 01:00       3.31                                  3.56   \n",
       "4    01-01-2018 01:15       3.82                                  4.50   \n",
       "..                ...        ...                                   ...   \n",
       "379  01-04-2018 23:00       2.88                                  4.32   \n",
       "380  01-04-2018 23:15       2.77                                  4.00   \n",
       "381  01-04-2018 23:30       2.77                                  3.96   \n",
       "382  01-04-2018 23:45       2.77                                  3.92   \n",
       "383  01-04-2018 00:00       2.77                                  4.00   \n",
       "\n",
       "     Leading_Current_Reactive_Power_kVarh  CO2(tCO2)  \\\n",
       "0                                     0.0        0.0   \n",
       "1                                     0.0        0.0   \n",
       "2                                     0.0        0.0   \n",
       "3                                     0.0        0.0   \n",
       "4                                     0.0        0.0   \n",
       "..                                    ...        ...   \n",
       "379                                   0.0        0.0   \n",
       "380                                   0.0        0.0   \n",
       "381                                   0.0        0.0   \n",
       "382                                   0.0        0.0   \n",
       "383                                   0.0        0.0   \n",
       "\n",
       "     Lagging_Current_Power_Factor  Leading_Current_Power_Factor    NSM  \n",
       "0                           73.21                         100.0    900  \n",
       "1                           66.77                         100.0   1800  \n",
       "2                           70.28                         100.0   2700  \n",
       "3                           68.09                         100.0   3600  \n",
       "4                           64.72                         100.0   4500  \n",
       "..                            ...                           ...    ...  \n",
       "379                         55.47                         100.0  82800  \n",
       "380                         56.93                         100.0  83700  \n",
       "381                         57.32                         100.0  84600  \n",
       "382                         57.71                         100.0  85500  \n",
       "383                         56.93                         100.0      0  \n",
       "\n",
       "[384 rows x 8 columns]"
      ]
     },
     "execution_count": 616,
     "metadata": {},
     "output_type": "execute_result"
    }
   ],
   "source": [
    "new_data"
   ]
  },
  {
   "cell_type": "code",
   "execution_count": 617,
   "id": "d252d3c6-5049-48b3-8291-8e1f3cf13553",
   "metadata": {},
   "outputs": [],
   "source": [
    "new_data.drop([\"date\",\"Usage_kWh\"], axis=1,inplace=True)"
   ]
  },
  {
   "cell_type": "code",
   "execution_count": 618,
   "id": "2e4ba3a0-291a-4006-b192-db128ff3f89a",
   "metadata": {},
   "outputs": [],
   "source": [
    "from sklearn.preprocessing import StandardScaler\n",
    "ss = StandardScaler()"
   ]
  },
  {
   "cell_type": "code",
   "execution_count": 619,
   "id": "b61c2c70-973b-4400-841e-a987e861572e",
   "metadata": {},
   "outputs": [],
   "source": [
    "new_data_cols = ['Lagging_Current_Reactive.Power_kVarh',\n",
    "       'Leading_Current_Reactive_Power_kVarh', 'CO2(tCO2)',\n",
    "       'Lagging_Current_Power_Factor', 'Leading_Current_Power_Factor', 'NSM']"
   ]
  },
  {
   "cell_type": "code",
   "execution_count": 620,
   "id": "89f0adec-1993-4522-82e6-a7ac0c7054ee",
   "metadata": {},
   "outputs": [],
   "source": [
    "new_data[new_data_cols]=ss.fit_transform(new_data[new_data_cols])"
   ]
  },
  {
   "cell_type": "code",
   "execution_count": 621,
   "id": "d3a7462d-682c-4adf-b962-faa2f078e681",
   "metadata": {},
   "outputs": [
    {
     "data": {
      "text/html": [
       "<div>\n",
       "<style scoped>\n",
       "    .dataframe tbody tr th:only-of-type {\n",
       "        vertical-align: middle;\n",
       "    }\n",
       "\n",
       "    .dataframe tbody tr th {\n",
       "        vertical-align: top;\n",
       "    }\n",
       "\n",
       "    .dataframe thead th {\n",
       "        text-align: right;\n",
       "    }\n",
       "</style>\n",
       "<table border=\"1\" class=\"dataframe\">\n",
       "  <thead>\n",
       "    <tr style=\"text-align: right;\">\n",
       "      <th></th>\n",
       "      <th>Lagging_Current_Reactive.Power_kVarh</th>\n",
       "      <th>Leading_Current_Reactive_Power_kVarh</th>\n",
       "      <th>CO2(tCO2)</th>\n",
       "      <th>Lagging_Current_Power_Factor</th>\n",
       "      <th>Leading_Current_Power_Factor</th>\n",
       "      <th>NSM</th>\n",
       "    </tr>\n",
       "  </thead>\n",
       "  <tbody>\n",
       "    <tr>\n",
       "      <th>0</th>\n",
       "      <td>-0.406065</td>\n",
       "      <td>-0.734477</td>\n",
       "      <td>-0.531676</td>\n",
       "      <td>-0.678593</td>\n",
       "      <td>0.721153</td>\n",
       "      <td>-1.678015</td>\n",
       "    </tr>\n",
       "    <tr>\n",
       "      <th>1</th>\n",
       "      <td>-0.312570</td>\n",
       "      <td>-0.734477</td>\n",
       "      <td>-0.531676</td>\n",
       "      <td>-1.068172</td>\n",
       "      <td>0.721153</td>\n",
       "      <td>-1.641929</td>\n",
       "    </tr>\n",
       "    <tr>\n",
       "      <th>2</th>\n",
       "      <td>-0.385632</td>\n",
       "      <td>-0.734477</td>\n",
       "      <td>-0.531676</td>\n",
       "      <td>-0.855840</td>\n",
       "      <td>0.721153</td>\n",
       "      <td>-1.605843</td>\n",
       "    </tr>\n",
       "    <tr>\n",
       "      <th>3</th>\n",
       "      <td>-0.368296</td>\n",
       "      <td>-0.734477</td>\n",
       "      <td>-0.531676</td>\n",
       "      <td>-0.988321</td>\n",
       "      <td>0.721153</td>\n",
       "      <td>-1.569756</td>\n",
       "    </tr>\n",
       "    <tr>\n",
       "      <th>4</th>\n",
       "      <td>-0.310094</td>\n",
       "      <td>-0.734477</td>\n",
       "      <td>-0.531676</td>\n",
       "      <td>-1.192184</td>\n",
       "      <td>0.721153</td>\n",
       "      <td>-1.533670</td>\n",
       "    </tr>\n",
       "  </tbody>\n",
       "</table>\n",
       "</div>"
      ],
      "text/plain": [
       "   Lagging_Current_Reactive.Power_kVarh  Leading_Current_Reactive_Power_kVarh  \\\n",
       "0                             -0.406065                             -0.734477   \n",
       "1                             -0.312570                             -0.734477   \n",
       "2                             -0.385632                             -0.734477   \n",
       "3                             -0.368296                             -0.734477   \n",
       "4                             -0.310094                             -0.734477   \n",
       "\n",
       "   CO2(tCO2)  Lagging_Current_Power_Factor  Leading_Current_Power_Factor  \\\n",
       "0  -0.531676                     -0.678593                      0.721153   \n",
       "1  -0.531676                     -1.068172                      0.721153   \n",
       "2  -0.531676                     -0.855840                      0.721153   \n",
       "3  -0.531676                     -0.988321                      0.721153   \n",
       "4  -0.531676                     -1.192184                      0.721153   \n",
       "\n",
       "        NSM  \n",
       "0 -1.678015  \n",
       "1 -1.641929  \n",
       "2 -1.605843  \n",
       "3 -1.569756  \n",
       "4 -1.533670  "
      ]
     },
     "execution_count": 621,
     "metadata": {},
     "output_type": "execute_result"
    }
   ],
   "source": [
    "new_data.head()"
   ]
  },
  {
   "cell_type": "code",
   "execution_count": 622,
   "id": "243e7cdf-84bf-4c8b-99f5-3cc39bc453ec",
   "metadata": {},
   "outputs": [
    {
     "data": {
      "text/plain": [
       "array([-0.63917757, -0.64293611, -0.64748402, -0.65611041, -0.65165817,\n",
       "       -0.65914534, -0.6458933 , -0.65803901, -0.65742903, -0.65845164,\n",
       "       -0.65793137, -0.6582513 , -0.65906461, -0.65549146, -0.65914833,\n",
       "       -0.6613281 , -0.65992874, -0.66016496, -0.65612237, -0.65658882,\n",
       "       -0.64798336, -0.65151166, -0.6545436 , -0.64585443, -0.65320405,\n",
       "       -0.65265088, -0.64522651, -0.6538798 , -0.65466919, -0.65425356,\n",
       "       -0.66014104, -0.65445689, -0.66029951, -0.65682503, -0.66719464,\n",
       "       -0.60914818, -0.64063972, -0.61288578, -0.62627238, -0.63389111,\n",
       "       -0.60991364, -0.63985632, -0.64111216, -0.60155338, -0.56290956,\n",
       "       -0.52864322, -0.55982978, -0.51015555, -0.62467568, -0.60095237,\n",
       "       -0.62126698, -0.61936828, -0.60161318, -0.63471338, -0.63981745,\n",
       "       -0.59870084, -0.62217597, -0.6358526 , -0.61226684, -0.6347672 ,\n",
       "       -0.62498964, -0.6121891 , -0.63618151, -0.6203281 , -0.62084239,\n",
       "       -0.63618151, -0.61421338, -0.62706774, -0.6401643 , -0.6071837 ,\n",
       "       -0.64015234, -0.64015234, -0.57621243, -0.56688936, -0.61798985,\n",
       "       -0.61181833, -0.64028091, -0.62287864, -0.6217454 , -0.64005965,\n",
       "       -0.614327  , -0.62616474, -0.64005965, -0.59560909, -0.64064271,\n",
       "       -0.64020018, -0.57854769, -0.64093574, -0.5007338 , -0.64489162,\n",
       "       -0.65293195, -0.64283444, -0.63973074, -0.63472833, -0.64595011,\n",
       "       -0.64579163,  1.54870705,  1.49876671,  1.25588237,  1.64852794,\n",
       "        1.49605171, -0.12729652, -0.59567786, -0.57173927, -0.57437951,\n",
       "       -0.56545412, -0.57517487, -0.5661239 , -0.56206337, -0.56606709,\n",
       "       -0.56498767, -0.57517487, -0.57771943, -0.57679251, -0.61955965,\n",
       "       -0.60394843, -0.60429229, -0.59991182, -0.60323978, -0.60611026,\n",
       "       -0.61221601, -0.61084655, -0.60611026, -0.60323978, -0.59986996,\n",
       "       -0.55898956, -0.50501859, -0.49102501,  1.05345384,  2.98324957,\n",
       "        2.36857549,  2.80861684,  2.24203523,  1.76196865,  1.47867336,\n",
       "        2.14206783,  2.84439615,  2.32953698,  2.85430828,  1.60452889,\n",
       "        1.25883358,  2.18982541,  2.1822037 ,  3.62185028,  0.05060138,\n",
       "       -0.51444632, -0.51551975, -0.51238017,  0.67544174,  2.23167759,\n",
       "        2.8030523 ,  2.15293977,  2.99498265,  1.80621289,  2.80525599,\n",
       "        2.19086596,  1.04660058,  1.27484547,  1.28805565,  0.96085699,\n",
       "        1.26707425,  1.58794888,  1.5048575 ,  1.24198447,  1.52601532,\n",
       "        1.20584934,  0.59546303,  0.37004676,  1.11322857,  1.6965038 ,\n",
       "        1.54639871,  1.18583074,  1.53898929,  1.74089455,  2.13719699,\n",
       "        2.83388901,  1.52497178,  2.27521916,  0.99136181,  1.54772929,\n",
       "        2.15677903,  0.28759525,  2.1507899 ,  0.94710561,  0.83047149,\n",
       "        2.15819334,  1.20702145,  2.18679048,  1.13120195,  2.18296318,\n",
       "        0.97179471,  2.16345588, -0.60664548, -0.61640212, -0.65054287,\n",
       "       -0.65988389, -0.65901377, -0.65830812, -0.66142079, -0.65719281,\n",
       "       -0.65730644, -0.66398927, -0.66281118, -0.66451852, -0.65624795,\n",
       "       -0.65407117, -0.66751159, -0.66556803, -0.66345704, -0.66064935,\n",
       "       -0.66130119, -0.66499693, -0.66097826, -0.66510457, -0.6518615 ,\n",
       "       -0.65383196, -0.66118457, -0.66488331, -0.65910946, -0.6665727 ,\n",
       "       -0.66568166, -0.66121746, -0.65983007, -0.60100021, -0.02147753,\n",
       "        0.0468279 ,  0.07748819,  0.23389937,  0.10872857,  0.1139642 ,\n",
       "        0.2768788 ,  0.37298302,  1.14383803,  1.50877152,  1.12817   ,\n",
       "        1.50908548,  1.51071208,  0.33814557,  0.3269238 ,  0.392583  ,\n",
       "        0.07917759, -0.06672644, -0.07048198, -0.05737645,  0.11499279,\n",
       "        0.05974505,  0.46632141,  0.49465841,  0.10790031,  0.10842059,\n",
       "        0.50139207,  0.48356521,  0.35994028,  0.233104  ,  0.51909635,\n",
       "        0.24647266,  0.46153428,  0.28466497,  0.5089809 ,  0.23221296,\n",
       "       -0.41394967, -0.56854885, -0.54891598, -0.5496635 , -0.49848825,\n",
       "       -0.53375626, -0.58351122, -0.54930768, -0.5491492 , -0.5494213 ,\n",
       "       -0.54969938, -0.54929871, -0.54929871, -0.54983094, -0.57425094,\n",
       "       -0.61612404, -0.63544595, -0.63650145, -0.63613965, -0.6350094 ,\n",
       "       -0.56169559, -0.6186686 , -0.62507934, -0.59881147, -0.62284874,\n",
       "       -0.61285887, -0.60870864, -0.61588185, -0.68547301, -0.68985049,\n",
       "       -0.68805046, -0.69096878, -0.68527865, -0.67300736, -0.68669595,\n",
       "       -0.69004783, -0.69002092, -0.68999401, -0.69185085, -0.69039767,\n",
       "       -0.69134553, -0.69319041, -0.69194653, -0.69046345, -0.6916864 ,\n",
       "       -0.69091197, -0.67490307, -0.68140351, -0.67716955, -0.67677187,\n",
       "       -0.68186697, -0.68573015, -0.68399591, -0.68821491, -0.68821491,\n",
       "       -0.68819398, -0.68790394, -0.68292546, -0.68712652, -0.68779032,\n",
       "       -0.68783816, -0.68537732, -0.6762516 , -0.6292505 , -0.65813768,\n",
       "       -0.59482868, -0.63087711, -0.65500707, -0.64507102, -0.64864118,\n",
       "       -0.64822257, -0.65500707, -0.57561741, -0.56062215, -0.55639417,\n",
       "       -0.53743705, -0.64095966, -0.62943888, -0.63157978, -0.62707372,\n",
       "       -0.64142611, -0.62105469, -0.62323745, -0.58927909, -0.64624912,\n",
       "       -0.63876494, -0.64450889, -0.64142611, -0.64230221, -0.64436536,\n",
       "       -0.64770828, -0.64058291, -0.65046214, -0.65654397, -0.65141897,\n",
       "       -0.64152479, -0.6405261 , -0.62039687, -0.64219457, -0.63138542,\n",
       "       -0.58779601, -0.57788987, -0.63041065, -0.64444012, -0.64764847,\n",
       "       -0.64996579, -0.64650028, -0.64448796, -0.64370157, -0.64650028,\n",
       "       -0.62174241, -0.62410457, -0.64471221, -0.64471221, -0.64238892,\n",
       "       -0.62082445, -0.53044325, -0.69734662, -0.69656023, -0.69424292,\n",
       "       -0.69218873, -0.69284954, -0.69118705, -0.69184487])"
      ]
     },
     "execution_count": 622,
     "metadata": {},
     "output_type": "execute_result"
    }
   ],
   "source": [
    "rf.predict(new_data)"
   ]
  },
  {
   "cell_type": "code",
   "execution_count": 623,
   "id": "4297a654-d0bd-47e2-84ab-b787149e0e74",
   "metadata": {},
   "outputs": [
    {
     "data": {
      "text/plain": [
       "array([-7.02825367e-01, -5.91786385e-01, -7.02825367e-01, -6.78712487e-01,\n",
       "       -5.98369181e-01, -6.88454866e-01, -6.04232967e-01, -6.05013430e-01,\n",
       "       -6.91939592e-01, -6.06914401e-01, -6.91939592e-01, -6.91939592e-01,\n",
       "       -5.60238779e-01, -6.95127249e-01, -6.95127249e-01, -5.64076722e-01,\n",
       "       -6.95246339e-01, -6.08475149e-01, -6.10607445e-01, -6.96154654e-01,\n",
       "       -6.10623300e-01, -6.10623300e-01, -6.97549462e-01, -6.10623300e-01,\n",
       "       -6.97549462e-01, -7.21662343e-01, -6.10623300e-01, -6.97549462e-01,\n",
       "       -6.97237790e-01, -6.12658858e-01, -7.08621502e-01, -7.20339537e-01,\n",
       "       -4.37202841e-01, -3.25236022e-01, -2.03347653e-01, -1.29168794e-01,\n",
       "       -1.29168794e-01, -1.29168794e-01, -1.29168794e-01, -1.29168794e-01,\n",
       "       -1.28550172e-01, -1.30012035e-01, -1.30012035e-01, -1.27355963e-01,\n",
       "        6.81046769e-02,  6.81046769e-02, -5.98851242e-04,  4.78114858e-02,\n",
       "       -2.43761972e-01, -2.86919862e-01, -2.88381726e-01, -2.88381726e-01,\n",
       "       -2.90093035e-01, -1.18691906e-01, -1.23213224e-01, -1.21751353e-01,\n",
       "       -1.23213224e-01, -1.23213224e-01, -1.21127062e-01, -1.23213224e-01,\n",
       "       -1.23213224e-01, -1.21127062e-01, -1.23213224e-01, -1.23213224e-01,\n",
       "       -1.23213224e-01, -1.23213224e-01, -1.21127062e-01, -1.39900222e-01,\n",
       "       -1.38365895e-01, -1.32720917e-01, -1.62881091e-01, -1.75887510e-01,\n",
       "       -2.33181387e-01, -3.33650410e-02, -2.09824324e-01, -1.78002641e-01,\n",
       "       -1.79464504e-01, -1.79464504e-01, -1.79464504e-01, -1.73975751e-01,\n",
       "       -1.72513887e-01, -1.73975751e-01, -1.73975751e-01, -1.88081965e-01,\n",
       "       -2.51516074e-01, -2.51516074e-01, -2.47834712e-01, -2.53383607e-01,\n",
       "       -4.75152105e-01, -5.87628722e-01, -6.96498990e-01, -6.72386050e-01,\n",
       "       -6.96498990e-01, -6.96498990e-01, -6.72386050e-01, -7.02825367e-01,\n",
       "        1.32652080e+00,  1.29258740e+00,  7.79928327e-01,  1.39946461e+00,\n",
       "        1.29499733e+00, -2.51572460e-01, -4.40346599e-01, -4.14739311e-01,\n",
       "       -4.41127062e-01, -4.41127062e-01, -4.41127062e-01, -4.14739311e-01,\n",
       "       -5.31950116e-01, -4.17926908e-01, -4.17926908e-01, -4.44433749e-01,\n",
       "       -4.44433749e-01, -4.44820076e-01, -4.44820076e-01, -6.09228492e-01,\n",
       "       -6.10623300e-01, -6.10623300e-01, -6.10623300e-01, -6.10623300e-01,\n",
       "       -6.10623300e-01, -6.10623300e-01, -6.10623300e-01, -6.10623300e-01,\n",
       "       -5.63378036e-01, -4.20483589e-01, -3.89652938e-01, -3.81583929e-01,\n",
       "        8.55031490e-01,  2.51875472e+00,  2.22769952e+00,  2.79459167e+00,\n",
       "        2.30521822e+00,  1.84971070e+00,  1.73376250e+00,  2.25092149e+00,\n",
       "        2.83922863e+00,  2.37697744e+00,  2.83922863e+00,  1.85429525e+00,\n",
       "        1.13429630e+00,  2.34408402e+00,  2.33509135e+00,  2.55583763e+00,\n",
       "        2.83298433e-01, -2.73010969e-01, -2.93908626e-01, -2.84700394e-01,\n",
       "        7.14262009e-01,  2.43539762e+00,  2.76832414e+00,  2.36168098e+00,\n",
       "        2.84602714e+00,  1.88316953e+00,  2.76101828e+00,  2.36168098e+00,\n",
       "        1.18724537e+00,  1.21285903e+00,  1.23142815e+00,  1.12673390e+00,\n",
       "        1.23142815e+00,  1.80108356e+00,  1.78057659e+00,  1.22459567e+00,\n",
       "        1.76188087e+00,  1.18134403e+00,  6.50515914e-01,  6.02214694e-01,\n",
       "        9.21594739e-01,  1.56089723e+00,  1.65648901e+00,  1.17885876e+00,\n",
       "        1.73583949e+00,  1.80856037e+00,  2.22953653e+00,  2.59103060e+00,\n",
       "        1.55537713e+00,  2.20628572e+00,  8.59533787e-01,  1.41831911e+00,\n",
       "        1.88708222e+00,  3.47711146e-01,  1.83230436e+00,  7.80126035e-01,\n",
       "        5.41821480e-01,  1.86658609e+00,  7.17838168e-01,  1.87774754e+00,\n",
       "        7.04015434e-01,  1.90268803e+00,  6.50601149e-01,  1.89636135e+00,\n",
       "       -4.27899987e-01, -4.27899987e-01, -4.30590093e-01, -5.47542930e-01,\n",
       "       -6.00270152e-01, -6.03429675e-01, -6.06133938e-01, -6.06914401e-01,\n",
       "       -6.06914401e-01, -6.06914401e-01, -6.07703567e-01, -5.60769975e-01,\n",
       "       -4.44075167e-01, -4.47004765e-01, -4.47004765e-01, -6.11010313e-01,\n",
       "       -6.11010313e-01, -6.10607445e-01, -5.64463019e-01, -6.11918628e-01,\n",
       "       -6.13313437e-01, -6.13313437e-01, -4.49426949e-01, -4.49426949e-01,\n",
       "       -6.12524271e-01, -5.66379845e-01, -4.49426949e-01, -4.49426949e-01,\n",
       "       -6.13001764e-01, -6.12658858e-01, -6.23596311e-01, -4.69526917e-01,\n",
       "       -4.69650999e-02,  1.99102789e-01,  2.91200668e-01,  4.20853764e-01,\n",
       "        4.70298171e-01,  4.42087203e-01,  6.60258830e-01,  5.38948119e-01,\n",
       "        1.04223514e+00,  1.55026531e+00,  9.18710470e-01,  1.50975764e+00,\n",
       "        1.76466560e+00,  5.75020432e-01,  4.65551764e-01,  5.07377982e-01,\n",
       "       -5.52713051e-02,  1.72641248e-01,  1.72641248e-01,  1.72641248e-01,\n",
       "        1.23624802e-01,  3.52224767e-01,  4.22026455e-01,  4.22026455e-01,\n",
       "        4.52123165e-01,  3.04008275e-01,  4.22026455e-01,  4.46139425e-01,\n",
       "        5.00798881e-01,  6.52942181e-01,  4.11681473e-01,  5.94683170e-01,\n",
       "        7.78923154e-01,  6.41616821e-01,  4.40163761e-01,  7.53208041e-01,\n",
       "       -1.11795902e-01, -9.42384824e-02, -1.22936815e-01, -1.35943219e-01,\n",
       "       -2.61786282e-01, -2.00365439e-01, -2.08362430e-01, -1.39520243e-01,\n",
       "       -1.39520243e-01, -1.39520243e-01, -1.39520243e-01, -1.34031519e-01,\n",
       "       -1.34031519e-01, -1.34031519e-01, -1.05766840e-01, -1.90301433e-01,\n",
       "       -2.51516074e-01, -2.51516074e-01, -2.51516074e-01, -2.53383607e-01,\n",
       "       -4.02908087e-01, -6.75802231e-01, -6.70111239e-01, -6.42007053e-01,\n",
       "       -6.70111239e-01, -6.27071142e-01, -6.27071142e-01, -6.67441547e-01,\n",
       "       -6.81402624e-01, -6.81402624e-01, -6.81402624e-01, -6.81402624e-01,\n",
       "       -6.01059318e-01, -6.04218841e-01, -6.93849266e-01, -6.94629729e-01,\n",
       "       -6.94629729e-01, -6.94629729e-01, -6.94629729e-01, -6.94629729e-01,\n",
       "       -6.94887698e-01, -6.10891223e-01, -6.10891223e-01, -6.97936475e-01,\n",
       "       -6.97936475e-01, -6.98322773e-01, -5.64463019e-01, -5.64985037e-01,\n",
       "       -7.00239599e-01, -6.13313437e-01, -7.00239599e-01, -7.00239599e-01,\n",
       "       -7.00239599e-01, -7.00239599e-01, -7.00239599e-01, -7.00239599e-01,\n",
       "       -6.99927926e-01, -7.23697901e-01, -7.11311638e-01, -7.23029673e-01,\n",
       "       -5.24918139e-01, -3.27926129e-01, -2.03347653e-01, -1.21494845e-01,\n",
       "       -1.29168794e-01, -9.72228125e-02, -9.88179818e-02, -1.29168794e-01,\n",
       "       -1.30012035e-01, -1.30012035e-01, -1.30012035e-01, -1.28817841e-01,\n",
       "        1.26143172e-02,  6.81046769e-02,  6.81046769e-02,  4.78114858e-02,\n",
       "       -2.43761972e-01, -2.88381726e-01, -2.88381726e-01, -2.88381726e-01,\n",
       "       -2.91554898e-01, -8.89654085e-02, -9.28624272e-02, -7.03695863e-02,\n",
       "       -1.23213224e-01, -1.23213224e-01, -1.23213224e-01, -1.23213224e-01,\n",
       "       -1.23213224e-01, -1.23213224e-01, -1.23213224e-01, -1.23213224e-01,\n",
       "       -1.23213224e-01, -1.23213224e-01, -1.23213224e-01, -1.39900222e-01,\n",
       "       -1.38365895e-01, -1.04456246e-01, -1.62881091e-01, -1.75887510e-01,\n",
       "       -2.21034825e-01, -3.33650410e-02, -5.22261299e-02, -1.79464504e-01,\n",
       "       -1.79464504e-01, -1.79464504e-01, -1.79464504e-01, -1.73975751e-01,\n",
       "       -1.73975751e-01, -1.73975751e-01, -1.44249246e-01, -1.61412552e-01,\n",
       "       -2.51516074e-01, -2.51516074e-01, -2.51516074e-01, -2.23657101e-01,\n",
       "       -6.91113532e-01, -5.90318859e-01, -5.88150144e-01, -5.88150144e-01,\n",
       "       -6.75076187e-01, -6.75076187e-01, -6.75076187e-01, -6.81402624e-01],\n",
       "      dtype=float32)"
      ]
     },
     "execution_count": 623,
     "metadata": {},
     "output_type": "execute_result"
    }
   ],
   "source": [
    "xg_reg.predict(new_data)"
   ]
  },
  {
   "cell_type": "code",
   "execution_count": 624,
   "id": "f25e97ae-4d78-40d2-ae15-db2593e06e05",
   "metadata": {},
   "outputs": [
    {
     "data": {
      "text/plain": [
       "array([-0.66902756, -0.67548613, -0.67823701, -0.67147943, -0.68021046,\n",
       "       -0.66155235, -0.67488812, -0.67530673, -0.66926676, -0.68367896,\n",
       "       -0.67494792, -0.68780527, -0.68995813, -0.67985165, -0.68284174,\n",
       "       -0.68953952, -0.68242312, -0.69121396, -0.70132044, -0.67357248,\n",
       "       -0.67201764, -0.66944617, -0.67871542, -0.67094121, -0.6778782 ,\n",
       "       -0.67506752, -0.66854915, -0.67847622, -0.67931344, -0.67381169,\n",
       "       -0.67309407, -0.66364541, -0.68068888, -0.66711391, -0.66890795,\n",
       "       -0.66555906, -0.64899401, -0.61586391, -0.62274109, -0.63547884,\n",
       "       -0.62118625, -0.63308678, -0.64343246, -0.60874751, -0.69665591,\n",
       "       -0.69665591, -0.70030381, -0.69665591, -0.68003106, -0.60527902,\n",
       "       -0.65892108, -0.65916029, -0.61173759, -0.65892108, -0.64983123,\n",
       "       -0.61514629, -0.66065533, -0.64594413, -0.61389045, -0.67183823,\n",
       "       -0.61024255, -0.6119768 , -0.66185136, -0.61717954, -0.61717954,\n",
       "       -0.66185136, -0.61891379, -0.63230936, -0.66185136, -0.62190387,\n",
       "       -0.66185136, -0.66185136, -0.70114104, -0.71537382, -0.65910049,\n",
       "       -0.64564512, -0.66466204, -0.63374459, -0.61993042, -0.66466204,\n",
       "       -0.62429594, -0.61795696, -0.62638899, -0.5717901 , -0.62638899,\n",
       "       -0.60856811, -0.58811595, -0.62040883, -0.7217726 , -0.6742901 ,\n",
       "       -0.67357248, -0.67548613, -0.66274839, -0.66795113, -0.66406402,\n",
       "       -0.67979185,  1.91565885,  1.72812092,  1.24988726,  1.98156025,\n",
       "        1.61294298, -0.13505877, -0.6376915 , -0.60635545, -0.61819617,\n",
       "       -0.61969121, -0.62919967, -0.63308678, -0.64193742, -0.64217662,\n",
       "       -0.64217662, -0.63834932, -0.63900714, -0.64074139, -0.67357248,\n",
       "       -0.64546571, -0.66095434, -0.6667551 , -0.67446951, -0.67530673,\n",
       "       -0.67357248, -0.6741705 , -0.66191116, -0.65054885, -0.61096017,\n",
       "       -0.57836828, -0.58745813, -0.5864415 ,  1.04524607,  3.00327115,\n",
       "        2.35161275,  2.89455178,  2.32817051,  1.74982892,  1.55959992,\n",
       "        2.31118685,  2.90184758,  2.32344618,  2.95997477,  1.64152816,\n",
       "        1.24312967,  2.30114018,  2.28607016,  3.02354391,  0.09212763,\n",
       "       -0.51294529, -0.50846017, -0.51599518,  0.64941906,  2.35394502,\n",
       "        2.94903107,  2.32099432,  2.99125103,  1.91524023,  2.880618  ,\n",
       "        2.34808446,  1.05475453,  1.19726182,  1.28666526,  0.93359642,\n",
       "        1.23972098,  1.67154858,  1.643083  ,  1.2697414 ,  1.65061801,\n",
       "        1.15097536,  0.52084554,  0.42372769,  1.03777086,  1.86704012,\n",
       "        1.62956783,  1.1307026 ,  1.70061217,  1.90363872,  2.26597681,\n",
       "        2.953576  ,  1.71927028,  2.23410254,  1.04524607,  1.63602641,\n",
       "        2.29390418,  0.49501124,  2.27608329,  1.17507542,  1.08405733,\n",
       "        2.37834408,  1.20581346,  2.37834408,  1.20581346,  2.38067635,\n",
       "        1.0685089 ,  2.25856141, -0.66956577, -0.66974518, -0.67656256,\n",
       "       -0.68128689, -0.68128689, -0.6814663 , -0.67590475, -0.67698118,\n",
       "       -0.67530673, -0.68798468, -0.69468246, -0.68499459, -0.67919384,\n",
       "       -0.67847622, -0.68601122, -0.68953952, -0.68822388, -0.68971892,\n",
       "       -0.69013753, -0.69013753, -0.69659611, -0.69707452, -0.69055615,\n",
       "       -0.6925296 , -0.69797155, -0.69318742, -0.70395171, -0.68176531,\n",
       "       -0.67680177, -0.67381169, -0.67919384, -0.59224226, -0.02000043,\n",
       "        0.06479829,  0.06742956,  0.28187822,  0.14062676,  0.13697886,\n",
       "        0.31291526,  0.51067927,  1.15928778,  1.63040505,  1.00912588,\n",
       "        1.66012647,  1.57138084,  0.3692484 ,  0.32296194,  0.46618685,\n",
       "        0.01958825,  0.03645231, -0.01479769, -0.01479769,  0.02694385,\n",
       "        0.03322302,  0.40716264,  0.40716264,  0.03465826,  0.1384739 ,\n",
       "        0.50057279,  0.50876561,  0.40345494,  0.39053778,  0.32708825,\n",
       "        0.3326498 ,  0.46463201,  0.44011334,  0.53430091,  0.46289776,\n",
       "       -0.41152172, -0.56246105, -0.56246105, -0.56246105, -0.62710661,\n",
       "       -0.67231665, -0.57585661, -0.56999605, -0.56634815, -0.56228164,\n",
       "       -0.56228164, -0.56228164, -0.56299926, -0.56299926, -0.5791457 ,\n",
       "       -0.6230401 , -0.61072097, -0.62531256, -0.62531256, -0.62531256,\n",
       "       -0.72243042, -0.64648234, -0.6522233 , -0.63631606, -0.64839599,\n",
       "       -0.6301565 , -0.63978456, -0.66478164, -0.68864249, -0.69785195,\n",
       "       -0.69091496, -0.70538695, -0.69653631, -0.68989833, -0.69958619,\n",
       "       -0.69420405, -0.69683532, -0.69402464, -0.69958619, -0.69749314,\n",
       "       -0.69815095, -0.70173905, -0.69827056, -0.6924698 , -0.69378543,\n",
       "       -0.70173905, -0.70132044, -0.70969267, -0.69767254, -0.69749314,\n",
       "       -0.69898818, -0.70138024, -0.70419092, -0.70395171, -0.7071212 ,\n",
       "       -0.69761274, -0.69181198, -0.68816408, -0.68924051, -0.68666904,\n",
       "       -0.68475539, -0.68499459, -0.677938  , -0.68924051, -0.6925296 ,\n",
       "       -0.63643567, -0.64600393, -0.65288112, -0.64881461, -0.64881461,\n",
       "       -0.65072826, -0.66131315, -0.72099518, -0.70658298, -0.70658298,\n",
       "       -0.70658298, -0.69767254, -0.66346601, -0.66496105, -0.66496105,\n",
       "       -0.66346601, -0.62268129, -0.62764483, -0.59798322, -0.64983123,\n",
       "       -0.67572534, -0.68672884, -0.69079535, -0.69079535, -0.6853534 ,\n",
       "       -0.67913403, -0.670702  , -0.67913403, -0.67913403, -0.670702  ,\n",
       "       -0.670702  , -0.63230936, -0.63057511, -0.66920696, -0.66920696,\n",
       "       -0.71471601, -0.71961974, -0.68780527, -0.6704628 , -0.6704628 ,\n",
       "       -0.6704628 , -0.6704628 , -0.6704628 , -0.67692137, -0.67608415,\n",
       "       -0.62429594, -0.62967808, -0.70155965, -0.70155965, -0.68738666,\n",
       "       -0.62866146, -0.70670259, -0.70460953, -0.70526735, -0.70431052,\n",
       "       -0.69725393, -0.69767254, -0.70628398, -0.71190533])"
      ]
     },
     "execution_count": 624,
     "metadata": {},
     "output_type": "execute_result"
    }
   ],
   "source": [
    "knn.predict(new_data)"
   ]
  },
  {
   "cell_type": "code",
   "execution_count": null,
   "id": "49119132-300b-4dbb-b765-5f5fb57432e1",
   "metadata": {},
   "outputs": [],
   "source": []
  },
  {
   "cell_type": "markdown",
   "id": "3e55cbc7-e2fc-42d8-adca-8520e0837f28",
   "metadata": {},
   "source": [
    "#INTERPRETATION -\n",
    "\n",
    "Mean Absolute Error(MAE) and Mean Squared Error(MSE)\n",
    "Random forest Regressor  - \n",
    "MAE - 0.009618169448456977\n",
    "MSE -0.0007800820597577511\n",
    "\n",
    "XgbRegressor -\n",
    "MAE - 0.0990063372015759\n",
    "MSE -0.025453487529060213\n",
    "\n",
    "knn -\n",
    "MAE -0.02812872688936916\n",
    "MSE -0.003710037600878498\n",
    "\n",
    "Overall Interpretation\n",
    "Random Forest Regressor: This model has the lowest MAE and MSE, indicating it is the most accurate and efficient among the three models. It provides the best fit for the data and is likely making the most precise predictions.\n",
    "\n",
    "XGBoost Regressor: XGBoost has the highest MAE and MSE, suggesting it is the least accurate model for this dataset. It may require further tuning or may not be the best choice for this particular regression task.\n",
    "\n",
    "KNN Regressor: KNN performs better than XGBoost but worse than Random Forest. It is a decent model for this task but not as effective as the Random Forest.\n",
    "\n",
    "Recommendation\n",
    "\n",
    "Based on the given metrics, Random Forest Regressor is the best-performing model and should be the preferred choice for this task. If further improvement is needed, consider tuning the hyperparameters of the Random Forest model, or if interpretability is a key concern, KNN might be a simpler alternative to consider. XGBoost, while powerful, might not be as suitable for this dataset without significant tuning\n",
    "\n"
   ]
  },
  {
   "cell_type": "markdown",
   "id": "3d539f65-b4d7-4b81-9028-7cfb3e6a359c",
   "metadata": {},
   "source": [
    "#INTERPRETATION NEW DATA\n",
    "The comparative analysis on the new dataset performing XGBoost, Random Forest, and KNN regression models indicates that XGBoost delivers the most stable and reliable predictions, closely followed by Random Forest, both showing consistent patterns with low variability. KNN, however, exhibits inconsistent predictions with notable overfitting, making it less reliable. Overall, XGBoost is recommended for this dataset due to its superior performance, while Random Forest offers a strong alternative. KNN’s performance suggests it is not well-suited for this data without further tuning or feature engineering."
   ]
  },
  {
   "cell_type": "code",
   "execution_count": null,
   "id": "b034eb08-4b7b-411c-97dd-55db1faa895a",
   "metadata": {},
   "outputs": [],
   "source": []
  }
 ],
 "metadata": {
  "kernelspec": {
   "display_name": "Python 3 (ipykernel)",
   "language": "python",
   "name": "python3"
  },
  "language_info": {
   "codemirror_mode": {
    "name": "ipython",
    "version": 3
   },
   "file_extension": ".py",
   "mimetype": "text/x-python",
   "name": "python",
   "nbconvert_exporter": "python",
   "pygments_lexer": "ipython3",
   "version": "3.12.4"
  }
 },
 "nbformat": 4,
 "nbformat_minor": 5
}
